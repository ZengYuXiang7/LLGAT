{
 "cells": [
  {
   "metadata": {},
   "cell_type": "code",
   "outputs": [],
   "execution_count": null,
   "source": [
    "from utils.utils import makedir\n",
    "import os\n",
    "address = './results/ours/only_embed/log'\n",
    "makedir('results')\n",
    "# 打开输出文件\n",
    "with open('./results/output.txt', 'w') as ans:\n",
    "    # 获取目标目录中的所有文件\n",
    "    all_result = os.listdir(address)\n",
    "    \n",
    "    # 遍历所有文件\n",
    "    for filename in all_result:\n",
    "        # 构建文件路径\n",
    "        file_path = os.path.join(address, filename)\n",
    "        \n",
    "        # 打开并读取文件内容\n",
    "        with open(file_path, 'r') as f:\n",
    "            content = f.read()\n",
    "            \n",
    "            # 打印文件内容\n",
    "            print(content)\n",
    "            \n",
    "            # 将文件内容写入输出文件，添加一些格式\n",
    "            ans.write(f\"Content of {filename}:\\n\")\n",
    "            ans.write(content)\n",
    "            ans.write(\"\\n\\n\")"
   ],
   "id": "c4e2bb0716339ef7"
  },
  {
   "metadata": {
    "ExecuteTime": {
     "end_time": "2024-07-28T13:02:51.301164Z",
     "start_time": "2024-07-28T13:02:51.299678Z"
    }
   },
   "cell_type": "code",
   "source": "import pickle ",
   "id": "f11bd60e5fcaf069",
   "outputs": [],
   "execution_count": 2
  },
  {
   "metadata": {
    "ExecuteTime": {
     "end_time": "2024-08-27T08:25:41.929666Z",
     "start_time": "2024-08-27T08:25:41.925003Z"
    }
   },
   "cell_type": "code",
   "source": [
    "def find_closest_power_of_2(train_size, percentage=0.10):\n",
    "    # 计算目标 batch size\n",
    "    target_bs = int(train_size * percentage)\n",
    "    \n",
    "    # 定义 2 的幂次序列\n",
    "    powers_of_2 = [2**i for i in range(1, 9)]  # 2, 4, 8, ..., 256\n",
    "\n",
    "    # 找到最接近的 2 的幂次\n",
    "    closest_bs = min(powers_of_2, key=lambda x: abs(x - target_bs))\n",
    "    \n",
    "    return closest_bs\n",
    "\n",
    "# 假设 args 包含 train_size\n",
    "class Args:\n",
    "    def __init__(self, train_size):\n",
    "        self.train_size = train_size\n",
    "\n",
    "args = Args(train_size=100)\n",
    "\n",
    "# 找到最接近的 batch size\n",
    "bs = find_closest_power_of_2(args.train_size)\n",
    "\n",
    "print(f'最佳 batch size 为: {bs}')"
   ],
   "id": "4fb48f8a2301cfe1",
   "outputs": [
    {
     "name": "stdout",
     "output_type": "stream",
     "text": [
      "最佳 batch size 为: 8\n"
     ]
    }
   ],
   "execution_count": 4
  },
  {
   "metadata": {
    "ExecuteTime": {
     "end_time": "2024-08-23T14:01:24.479700Z",
     "start_time": "2024-08-23T14:01:24.475111Z"
    }
   },
   "cell_type": "code",
   "source": [
    "import pickle\n",
    "with open('./agu/4090.pkl', 'rb') as f:\n",
    "    print(pickle.load(f))\n",
    "with open('./agu/3080.pkl', 'rb') as f:\n",
    "    print(pickle.load(f))\n",
    "# with open('./agu/1080Ti.pkl', 'rb') as f:\n",
    "#     print(pickle.load(f))\n",
    "with open('agu/1080Ti.pkl', 'rb') as f:\n",
    "    print(pickle.load(f))"
   ],
   "id": "59f767b47c55e11c",
   "outputs": [
    {
     "name": "stdout",
     "output_type": "stream",
     "text": [
      "[5120, 2.2, 12.0, 256.0]\n",
      "[8704, 1440, 10.0, 320]\n",
      "[3584, 1480, 11, 352]\n"
     ]
    }
   ],
   "execution_count": 8
  },
  {
   "metadata": {
    "ExecuteTime": {
     "end_time": "2024-08-14T08:40:13.767396Z",
     "start_time": "2024-08-14T08:40:12.159284Z"
    }
   },
   "cell_type": "code",
   "source": [
    "import torch\n",
    "import torch.nn as nn\n",
    "import torch.nn.functional as F\n",
    "\n",
    "class CustomModel(nn.Module):\n",
    "    def __init__(self):\n",
    "        super(CustomModel, self).__init__()\n",
    "        self.conv1x1 = nn.Conv2d(in_channels=3, out_channels=64, kernel_size=1)\n",
    "        self.conv3x3 = nn.Conv2d(in_channels=64, out_channels=64, kernel_size=3, padding=1)\n",
    "        self.maxpool3x3 = nn.MaxPool2d(kernel_size=3, stride=1, padding=1)\n",
    "        \n",
    "    def forward(self, x):\n",
    "        # 主路径\n",
    "        out = self.conv3x3(x)\n",
    "        \n",
    "        # 残差连接，1x1 卷积\n",
    "        residual = self.conv1x1(x)\n",
    "        \n",
    "        # 计算残差路径和主路径之和\n",
    "        out += residual\n",
    "        \n",
    "        # 最大池化路径\n",
    "        out = self.maxpool3x3(out)\n",
    "        \n",
    "        return out\n",
    "\n",
    "# 创建模型实例\n",
    "model = CustomModel()\n",
    "\n",
    "# 检查模型结构\n",
    "print(model)"
   ],
   "id": "7680f3754e53cd5d",
   "outputs": [
    {
     "name": "stdout",
     "output_type": "stream",
     "text": [
      "CustomModel(\n",
      "  (conv1x1): Conv2d(3, 64, kernel_size=(1, 1), stride=(1, 1))\n",
      "  (conv3x3): Conv2d(64, 64, kernel_size=(3, 3), stride=(1, 1), padding=(1, 1))\n",
      "  (maxpool3x3): MaxPool2d(kernel_size=3, stride=1, padding=1, dilation=1, ceil_mode=False)\n",
      ")\n"
     ]
    }
   ],
   "execution_count": 1
  },
  {
   "metadata": {
    "ExecuteTime": {
     "end_time": "2024-07-28T13:02:51.938525Z",
     "start_time": "2024-07-28T13:02:51.933036Z"
    }
   },
   "cell_type": "code",
   "source": "pickle.load(open('./agu/core-i7-7820x.pkl', 'rb'))",
   "id": "ba763681a46ce07a",
   "outputs": [
    {
     "data": {
      "text/plain": [
       "[4.3, 8, 16, 11.0, 37.5]"
      ]
     },
     "execution_count": 3,
     "metadata": {},
     "output_type": "execute_result"
    }
   ],
   "execution_count": 3
  },
  {
   "metadata": {
    "ExecuteTime": {
     "end_time": "2024-07-22T11:13:27.750291Z",
     "start_time": "2024-07-22T11:13:27.748466Z"
    }
   },
   "cell_type": "code",
   "source": [
    "df = pickle.load(open('./agu/core-i9-13900k.pkl', 'rb'))\n",
    "df"
   ],
   "id": "3ba5b66ed273cbc9",
   "outputs": [
    {
     "data": {
      "text/plain": [
       "[5.2, 16, 32, 30, 59.7]"
      ]
     },
     "execution_count": 10,
     "metadata": {},
     "output_type": "execute_result"
    }
   ],
   "execution_count": 10
  },
  {
   "metadata": {
    "ExecuteTime": {
     "end_time": "2024-07-28T13:03:21.463026Z",
     "start_time": "2024-07-28T13:03:21.460819Z"
    }
   },
   "cell_type": "code",
   "source": [
    "df = pickle.load(open('./agu/1080Ti.pkl', 'rb'))\n",
    "df"
   ],
   "id": "893e71d8dda18369",
   "outputs": [
    {
     "data": {
      "text/plain": [
       "[3584, 1582, 11, 352]"
      ]
     },
     "execution_count": 4,
     "metadata": {},
     "output_type": "execute_result"
    }
   ],
   "execution_count": 4
  },
  {
   "metadata": {
    "ExecuteTime": {
     "end_time": "2024-07-22T11:15:14.277259Z",
     "start_time": "2024-07-22T11:15:14.274983Z"
    }
   },
   "cell_type": "code",
   "source": [
    "norm = [7, 32, 32, 40, 60]\n",
    "for i in range(len(norm)):\n",
    "    df[i] /= norm[i]\n",
    "df"
   ],
   "id": "5245b5540d67c5a5",
   "outputs": [
    {
     "data": {
      "text/plain": [
       "[0.10612244897959185, 0.015625, 0.03125, 0.01875, 0.016583333333333332]"
      ]
     },
     "execution_count": 15,
     "metadata": {},
     "output_type": "execute_result"
    }
   ],
   "execution_count": 15
  },
  {
   "metadata": {
    "ExecuteTime": {
     "end_time": "2024-07-22T11:15:36.208024Z",
     "start_time": "2024-07-22T11:15:36.204696Z"
    }
   },
   "cell_type": "code",
   "source": [
    "import torch \n",
    "df = pickle.load(open('./agu/core-i9-13900k.pkl', 'rb'))\n",
    "norm = [7, 32, 32, 40, 60]\n",
    "for i in range(len(norm)):\n",
    "    df[i] /= norm[i]\n",
    "aug_data = torch.tensor(df).float().unsqueeze(0)"
   ],
   "id": "96a3399bfa541ca1",
   "outputs": [
    {
     "data": {
      "text/plain": [
       "tensor([[0.7429, 0.5000, 1.0000, 0.7500, 0.9950]])"
      ]
     },
     "execution_count": 17,
     "metadata": {},
     "output_type": "execute_result"
    }
   ],
   "execution_count": 17
  },
  {
   "metadata": {
    "ExecuteTime": {
     "end_time": "2024-07-22T11:19:56.016039Z",
     "start_time": "2024-07-22T11:19:56.013556Z"
    }
   },
   "cell_type": "code",
   "source": [
    "a = './agu/core-i9-13900k.pkl'\n",
    "a.split('.')[-2]"
   ],
   "id": "5d4935f6e73bf5e2",
   "outputs": [
    {
     "data": {
      "text/plain": [
       "'/agu/core-i9-13900k'"
      ]
     },
     "execution_count": 21,
     "metadata": {},
     "output_type": "execute_result"
    }
   ],
   "execution_count": 21
  },
  {
   "metadata": {
    "ExecuteTime": {
     "end_time": "2024-07-22T12:36:53.216743Z",
     "start_time": "2024-07-22T12:36:53.197915Z"
    }
   },
   "cell_type": "code",
   "source": [
    "import pickle \n",
    "df = pickle.load(open('datasets/cpu/desktop-cpu-core-i7-7820x-fp32.pickle', 'rb'))\n",
    "max_value = 0\n",
    "for key in df.keys():\n",
    "    max_value = max(max_value, df[key].max())\n",
    "max_value"
   ],
   "id": "20a3be6f6fb5c132",
   "outputs": [
    {
     "data": {
      "text/plain": [
       "0.009513392448425292"
      ]
     },
     "execution_count": 29,
     "metadata": {},
     "output_type": "execute_result"
    }
   ],
   "execution_count": 29
  },
  {
   "metadata": {},
   "cell_type": "code",
   "outputs": [],
   "execution_count": null,
   "source": "datasets/cpu/desktop-cpu-core-i7-7820x-fp32.pickle",
   "id": "e0a811c0b5b9a1de"
  },
  {
   "metadata": {
    "ExecuteTime": {
     "end_time": "2024-07-26T14:24:17.028266Z",
     "start_time": "2024-07-26T14:24:17.025348Z"
    }
   },
   "cell_type": "code",
   "source": [
    "from dgl import graph\n",
    "\n",
    "def problematic_function():\n",
    "    g = graph([])\n",
    "    g.add_nodes(10)\n",
    "    g.add_edges(list(range(9)), list(range(1, 10)))\n",
    "    return g\n",
    "\n",
    "problematic_function()\n"
   ],
   "id": "f94610dc34c8ddf8",
   "outputs": [
    {
     "data": {
      "text/plain": [
       "Graph(num_nodes=10, num_edges=9,\n",
       "      ndata_schemes={}\n",
       "      edata_schemes={})"
      ]
     },
     "execution_count": 4,
     "metadata": {},
     "output_type": "execute_result"
    }
   ],
   "execution_count": 4
  },
  {
   "metadata": {
    "ExecuteTime": {
     "end_time": "2024-08-10T06:42:32.607783Z",
     "start_time": "2024-08-10T06:42:32.604941Z"
    }
   },
   "cell_type": "code",
   "source": [
    "import random\n",
    "random.randint(1, 8)"
   ],
   "id": "f1b592fc6213bf4f",
   "outputs": [
    {
     "data": {
      "text/plain": [
       "2"
      ]
     },
     "execution_count": 2,
     "metadata": {},
     "output_type": "execute_result"
    }
   ],
   "execution_count": 2
  },
  {
   "metadata": {},
   "cell_type": "code",
   "outputs": [],
   "execution_count": null,
   "source": "",
   "id": "cd4a6fdf11d32721"
  }
 ],
 "metadata": {
  "kernelspec": {
   "display_name": "Python 3",
   "language": "python",
   "name": "python3"
  },
  "language_info": {
   "codemirror_mode": {
    "name": "ipython",
    "version": 2
   },
   "file_extension": ".py",
   "mimetype": "text/x-python",
   "name": "python",
   "nbconvert_exporter": "python",
   "pygments_lexer": "ipython2",
   "version": "2.7.6"
  }
 },
 "nbformat": 4,
 "nbformat_minor": 5
}
