{
 "cells": [
  {
   "cell_type": "code",
   "id": "initial_id",
   "metadata": {
    "collapsed": true,
    "ExecuteTime": {
     "end_time": "2024-09-25T15:08:54.855039Z",
     "start_time": "2024-09-25T15:08:54.843810Z"
    }
   },
   "source": [
    "import torch \n",
    "from tqdm import *\n",
    "class ReLUConvBN(torch.nn.Module):\n",
    "    def __init__(self, C_in, C_out, kernel_size, stride, padding):\n",
    "        super(ReLUConvBN, self).__init__()\n",
    "        self.op = torch.nn.Sequential(\n",
    "            torch.nn.ReLU(inplace=True),\n",
    "            torch.nn.Conv2d(C_in, C_out, kernel_size, stride, padding, bias=False),\n",
    "            torch.nn.BatchNorm2d(C_out)\n",
    "        )\n",
    "\n",
    "    def forward(self, x):\n",
    "        return self.op(x)\n",
    "    \n",
    "class POOLING(torch.nn.Module):\n",
    "    def __init__(self, kernel_size, stride, padding):\n",
    "        super(POOLING, self).__init__()\n",
    "        self.op = torch.nn.AvgPool2d(kernel_size, stride, padding)\n",
    "\n",
    "    def forward(self, x):\n",
    "        return self.op(x)"
   ],
   "outputs": [],
   "execution_count": 48
  },
  {
   "metadata": {
    "ExecuteTime": {
     "end_time": "2024-09-25T15:08:55.342134Z",
     "start_time": "2024-09-25T15:08:55.338882Z"
    }
   },
   "cell_type": "code",
   "source": "step = 100000",
   "id": "86a23d2ae443cb11",
   "outputs": [],
   "execution_count": 49
  },
  {
   "metadata": {
    "ExecuteTime": {
     "end_time": "2024-09-25T15:10:19.849053Z",
     "start_time": "2024-09-25T15:09:43.881431Z"
    }
   },
   "cell_type": "code",
   "source": [
    "from time import time\n",
    "model = ReLUConvBN(16, 16, 1, 1, 0)\n",
    "inputs = torch.rand(1, 16, 32, 32)\n",
    "ans = 0\n",
    "for i in trange(step):\n",
    "    t1 = time()\n",
    "    model(inputs)\n",
    "    t2 = time()\n",
    "    ans += (t2 - t1)\n",
    "print(f\"Time taken: {ans / step:f}\")\n",
    "print((t2-t1))"
   ],
   "id": "c00a91e380953eae",
   "outputs": [
    {
     "name": "stderr",
     "output_type": "stream",
     "text": [
      "100%|██████████| 100000/100000 [00:35<00:00, 2780.93it/s]"
     ]
    },
    {
     "name": "stdout",
     "output_type": "stream",
     "text": [
      "Time taken: 0.000357\n",
      "0.0003559589385986328\n"
     ]
    },
    {
     "name": "stderr",
     "output_type": "stream",
     "text": [
      "\n"
     ]
    }
   ],
   "execution_count": 52
  },
  {
   "metadata": {
    "ExecuteTime": {
     "end_time": "2024-09-25T13:31:04.810476Z",
     "start_time": "2024-09-25T13:30:05.249608Z"
    }
   },
   "cell_type": "code",
   "source": [
    "from time import time\n",
    "model = ReLUConvBN(16, 16, 3, 1, 0)\n",
    "inputs = torch.rand(1, 16, 32, 32)\n",
    "ans = 0\n",
    "for i in trange(step):\n",
    "    t1 = time()\n",
    "    model(inputs)\n",
    "    t2 = time()\n",
    "    ans += (t2 - t1)\n",
    "print(f\"Time taken: {ans / step:f}\")\n",
    "print((t2-t1))"
   ],
   "id": "ed346d30db8e6a7e",
   "outputs": [
    {
     "name": "stderr",
     "output_type": "stream",
     "text": [
      "100%|██████████| 100000/100000 [00:59<00:00, 1679.09it/s]"
     ]
    },
    {
     "name": "stdout",
     "output_type": "stream",
     "text": [
      "Time taken: 0.000591\n",
      "0.0005810260772705078\n"
     ]
    },
    {
     "name": "stderr",
     "output_type": "stream",
     "text": [
      "\n"
     ]
    }
   ],
   "execution_count": 47
  },
  {
   "metadata": {
    "ExecuteTime": {
     "end_time": "2024-09-25T15:11:41.088072Z",
     "start_time": "2024-09-25T15:11:28.894268Z"
    }
   },
   "cell_type": "code",
   "source": [
    "from time import time\n",
    "model = POOLING(3, 1, 1)\n",
    "inputs = torch.rand(1, 16, 32, 32)\n",
    "ans = 0\n",
    "for i in trange(step):\n",
    "    t1 = time()\n",
    "    model(inputs)\n",
    "    t2 = time()\n",
    "    ans += (t2 - t1)\n",
    "print(f\"Time taken: {ans / step:f}\")\n",
    "print((t2-t1))"
   ],
   "id": "ccad2e50bcc8a464",
   "outputs": [
    {
     "name": "stderr",
     "output_type": "stream",
     "text": [
      "100%|██████████| 100000/100000 [00:12<00:00, 8204.35it/s]"
     ]
    },
    {
     "name": "stdout",
     "output_type": "stream",
     "text": [
      "Time taken: 0.000120\n",
      "0.0001308917999267578\n"
     ]
    },
    {
     "name": "stderr",
     "output_type": "stream",
     "text": [
      "\n"
     ]
    }
   ],
   "execution_count": 56
  },
  {
   "metadata": {
    "ExecuteTime": {
     "end_time": "2024-09-25T15:11:51.795729Z",
     "start_time": "2024-09-25T15:11:41.089208Z"
    }
   },
   "cell_type": "code",
   "source": [
    "from time import time\n",
    "model = POOLING(3, 1, 1)\n",
    "inputs = torch.rand(1, 3, 32, 32)\n",
    "ans = 0\n",
    "for i in trange(step):\n",
    "    t1 = time()\n",
    "    model(inputs)\n",
    "    t2 = time()\n",
    "    ans += (t2 - t1)\n",
    "print(f\"Time taken: {ans / step:f}\")\n",
    "print((t2-t1))"
   ],
   "id": "b106a8dcd4e8d944",
   "outputs": [
    {
     "name": "stderr",
     "output_type": "stream",
     "text": [
      "100%|██████████| 100000/100000 [00:10<00:00, 9343.53it/s]"
     ]
    },
    {
     "name": "stdout",
     "output_type": "stream",
     "text": [
      "Time taken: 0.000106\n",
      "9.703636169433594e-05\n"
     ]
    },
    {
     "name": "stderr",
     "output_type": "stream",
     "text": [
      "\n"
     ]
    }
   ],
   "execution_count": 57
  },
  {
   "metadata": {},
   "cell_type": "code",
   "outputs": [],
   "execution_count": null,
   "source": "",
   "id": "2f972440bce0496d"
  }
 ],
 "metadata": {
  "kernelspec": {
   "display_name": "Python 3",
   "language": "python",
   "name": "python3"
  },
  "language_info": {
   "codemirror_mode": {
    "name": "ipython",
    "version": 2
   },
   "file_extension": ".py",
   "mimetype": "text/x-python",
   "name": "python",
   "nbconvert_exporter": "python",
   "pygments_lexer": "ipython2",
   "version": "2.7.6"
  }
 },
 "nbformat": 4,
 "nbformat_minor": 5
}
