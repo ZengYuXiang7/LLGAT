{
 "cells": [
  {
   "cell_type": "code",
   "id": "initial_id",
   "metadata": {
    "collapsed": true,
    "ExecuteTime": {
     "end_time": "2024-07-23T03:23:13.766247Z",
     "start_time": "2024-07-23T03:23:13.686296Z"
    }
   },
   "source": [
    "import dgl\n",
    "import torch\n",
    "import torch.nn as nn\n",
    "import torch.nn.functional as F\n",
    "import numpy as np\n",
    "\n",
    "# Define the GCN model\n",
    "class GCN(nn.Module):\n",
    "    def __init__(self, in_feats, out_feats):\n",
    "        super(GCN, self).__init__()\n",
    "        self.conv1 = dgl.nn.GraphConv(in_feats, 16)\n",
    "        self.conv2 = dgl.nn.GraphConv(16, out_feats)\n",
    "\n",
    "    def forward(self, g, features):\n",
    "        x = F.relu(self.conv1(g, features))\n",
    "        x = self.conv2(g, x)\n",
    "        return x\n",
    "\n",
    "# Create a graph\n",
    "def build_graph():\n",
    "    g = dgl.DGLGraph()\n",
    "    g.add_nodes(10)  # Initial 10 nodes\n",
    "    # Add edges among the initial nodes\n",
    "    src = np.random.randint(0, 10, size=30)\n",
    "    dst = np.random.randint(0, 10, size=30)\n",
    "    g.add_edges(src, dst)\n",
    "    g = dgl.add_self_loop(g)\n",
    "    return g\n",
    "\n",
    "\n",
    "# Main function to run the process\n",
    "    # Set device\n",
    "device = torch.device('cuda' if torch.cuda.is_available() else 'cpu')\n",
    "\n",
    "# Build the graph\n",
    "g = build_graph().to(device)\n",
    "\n",
    "# Add initial node features\n",
    "node_features = torch.randn(10, 3)  # 10 nodes with 3-dimensional random features\n",
    "g.ndata['feat'] = node_features.to(device)\n",
    "\n",
    "# Initialize the model\n",
    "net = GCN(3, 5).to(device)  # 3-dimensional to 5-dimensional features\n",
    "optimizer = torch.optim.Adam(net.parameters(), lr=0.01)\n",
    "\n",
    "# Train the model\n",
    "for epoch in range(50):\n",
    "    net.train()\n",
    "    logits = net(g, g.ndata['feat'])\n",
    "    logp = F.log_softmax(logits, 1)\n",
    "    target = torch.LongTensor([i % 5 for i in range(10)]).to(device)  # Random targets for demo\n",
    "    loss = F.nll_loss(logp, target)\n",
    "    optimizer.zero_grad()\n",
    "    loss.backward()\n",
    "    optimizer.step()\n",
    "    print(f'Epoch {epoch} | Loss: {loss.item()}')"
   ],
   "outputs": [
    {
     "name": "stdout",
     "output_type": "stream",
     "text": [
      "Epoch 0 | Loss: 1.6383445262908936\n",
      "Epoch 1 | Loss: 1.6191332340240479\n",
      "Epoch 2 | Loss: 1.6009435653686523\n",
      "Epoch 3 | Loss: 1.5838308334350586\n",
      "Epoch 4 | Loss: 1.5674822330474854\n",
      "Epoch 5 | Loss: 1.5525562763214111\n",
      "Epoch 6 | Loss: 1.538368821144104\n",
      "Epoch 7 | Loss: 1.5249302387237549\n",
      "Epoch 8 | Loss: 1.5120902061462402\n",
      "Epoch 9 | Loss: 1.4997704029083252\n",
      "Epoch 10 | Loss: 1.4882854223251343\n",
      "Epoch 11 | Loss: 1.4773728847503662\n",
      "Epoch 12 | Loss: 1.4668142795562744\n",
      "Epoch 13 | Loss: 1.456069827079773\n",
      "Epoch 14 | Loss: 1.445007085800171\n",
      "Epoch 15 | Loss: 1.4335291385650635\n",
      "Epoch 16 | Loss: 1.421600580215454\n",
      "Epoch 17 | Loss: 1.4097126722335815\n",
      "Epoch 18 | Loss: 1.397286057472229\n",
      "Epoch 19 | Loss: 1.3842493295669556\n",
      "Epoch 20 | Loss: 1.3706670999526978\n",
      "Epoch 21 | Loss: 1.3566410541534424\n",
      "Epoch 22 | Loss: 1.3424216508865356\n",
      "Epoch 23 | Loss: 1.3279674053192139\n",
      "Epoch 24 | Loss: 1.3130663633346558\n",
      "Epoch 25 | Loss: 1.297823190689087\n",
      "Epoch 26 | Loss: 1.282370924949646\n",
      "Epoch 27 | Loss: 1.2665859460830688\n",
      "Epoch 28 | Loss: 1.2505089044570923\n",
      "Epoch 29 | Loss: 1.2343332767486572\n",
      "Epoch 30 | Loss: 1.2185627222061157\n",
      "Epoch 31 | Loss: 1.2025187015533447\n",
      "Epoch 32 | Loss: 1.1862598657608032\n",
      "Epoch 33 | Loss: 1.169722557067871\n",
      "Epoch 34 | Loss: 1.1529821157455444\n",
      "Epoch 35 | Loss: 1.136354684829712\n",
      "Epoch 36 | Loss: 1.1195157766342163\n",
      "Epoch 37 | Loss: 1.102626085281372\n",
      "Epoch 38 | Loss: 1.0856045484542847\n",
      "Epoch 39 | Loss: 1.0685197114944458\n",
      "Epoch 40 | Loss: 1.051493763923645\n",
      "Epoch 41 | Loss: 1.034397006034851\n",
      "Epoch 42 | Loss: 1.0173838138580322\n",
      "Epoch 43 | Loss: 1.0005462169647217\n",
      "Epoch 44 | Loss: 0.9837133288383484\n",
      "Epoch 45 | Loss: 0.9670182466506958\n",
      "Epoch 46 | Loss: 0.9504101872444153\n",
      "Epoch 47 | Loss: 0.9339262247085571\n",
      "Epoch 48 | Loss: 0.917962372303009\n",
      "Epoch 49 | Loss: 0.9021638631820679\n"
     ]
    }
   ],
   "execution_count": 50
  },
  {
   "metadata": {
    "ExecuteTime": {
     "end_time": "2024-07-23T03:23:13.952598Z",
     "start_time": "2024-07-23T03:23:13.950326Z"
    }
   },
   "cell_type": "code",
   "source": [
    "new_node_count = 3\n",
    "node_features = g.ndata['feat']\n",
    "old_node_count = g.number_of_nodes()\n",
    "old_node_count"
   ],
   "id": "452b145b70773b50",
   "outputs": [
    {
     "data": {
      "text/plain": [
       "10"
      ]
     },
     "execution_count": 51,
     "metadata": {},
     "output_type": "execute_result"
    }
   ],
   "execution_count": 51
  },
  {
   "metadata": {
    "ExecuteTime": {
     "end_time": "2024-07-23T03:24:11.748880Z",
     "start_time": "2024-07-23T03:24:11.745835Z"
    }
   },
   "cell_type": "code",
   "source": "g.nodes(), g.edges()",
   "id": "9c8f669736a4b294",
   "outputs": [
    {
     "data": {
      "text/plain": [
       "(tensor([0, 1, 2, 3, 4, 5, 6, 7, 8, 9], device='cuda:0'),\n",
       " (tensor([9, 0, 0, 4, 3, 2, 0, 1, 7, 1, 4, 4, 8, 0, 1, 8, 7, 2, 5, 4, 6, 9, 9, 6,\n",
       "          4, 7, 4, 7, 8, 7, 0, 1, 2, 3, 4, 5, 6, 7, 8, 9], device='cuda:0'),\n",
       "  tensor([3, 3, 1, 4, 2, 0, 9, 2, 2, 4, 4, 6, 4, 9, 5, 8, 3, 2, 0, 6, 0, 0, 6, 1,\n",
       "          9, 1, 1, 2, 2, 1, 0, 1, 2, 3, 4, 5, 6, 7, 8, 9], device='cuda:0')))"
      ]
     },
     "execution_count": 59,
     "metadata": {},
     "output_type": "execute_result"
    }
   ],
   "execution_count": 59
  },
  {
   "metadata": {
    "ExecuteTime": {
     "end_time": "2024-07-23T03:21:05.242217Z",
     "start_time": "2024-07-23T03:21:05.241359Z"
    }
   },
   "cell_type": "code",
   "source": [
    "new_nodes = old_node_count + new_node_count\n",
    "g.add_nodes(new_node_count)\n",
    "new_src = np.random.randint(0, new_nodes, size=10)\n",
    "new_dst = np.random.randint(0, new_nodes, size=10)\n",
    "g.add_edges(new_src, new_dst)\n",
    "g = dgl.add_self_loop(g)\n",
    "# Adding new random features for new nodes\n",
    "new_features = torch.randn(new_node_count, node_features.shape[1]).to(device)\n",
    "all_features = torch.cat([node_features, new_features], 0)\n",
    "\n",
    "# Get embeddings for the updated graph\n",
    "new_embeddings = net(g, all_features)\n",
    "\n",
    "# Simulate adding new nodes and updating their embeddings\n",
    "# new_embeddings = add_and_embed_nodes(net, g, 3, g.ndata['feat'])\n",
    "print('New node embeddings:', new_embeddings[-3:])"
   ],
   "id": "8cd1349803abf546",
   "outputs": [],
   "execution_count": 48
  }
 ],
 "metadata": {
  "kernelspec": {
   "display_name": "Python 3",
   "language": "python",
   "name": "python3"
  },
  "language_info": {
   "codemirror_mode": {
    "name": "ipython",
    "version": 2
   },
   "file_extension": ".py",
   "mimetype": "text/x-python",
   "name": "python",
   "nbconvert_exporter": "python",
   "pygments_lexer": "ipython2",
   "version": "2.7.6"
  }
 },
 "nbformat": 4,
 "nbformat_minor": 5
}
