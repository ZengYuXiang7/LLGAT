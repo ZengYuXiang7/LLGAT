{
 "cells": [
  {
   "cell_type": "code",
   "id": "initial_id",
   "metadata": {
    "collapsed": true,
    "ExecuteTime": {
     "end_time": "2024-07-23T02:43:01.198248Z",
     "start_time": "2024-07-23T02:43:01.032227Z"
    }
   },
   "source": [
    "import torch\n",
    "import torchvision\n",
    "from thop import profile\n",
    " \n",
    "print('==> Building model..')\n",
    "model = torchvision.models.alexnet()\n",
    " \n",
    "input = torch.randn(1, 3, 224, 224)\n",
    "flops, params = profile(model, (input,))\n",
    "print('flops: %.2f M, params: %.2f M' % (flops / 1e6, params / 1e6))"
   ],
   "outputs": [
    {
     "name": "stdout",
     "output_type": "stream",
     "text": [
      "==> Building model..\n",
      "[INFO] Register count_convNd() for <class 'torch.nn.modules.conv.Conv2d'>.\n",
      "[INFO] Register zero_ops() for <class 'torch.nn.modules.activation.ReLU'>.\n",
      "[INFO] Register zero_ops() for <class 'torch.nn.modules.pooling.MaxPool2d'>.\n",
      "[INFO] Register zero_ops() for <class 'torch.nn.modules.container.Sequential'>.\n",
      "[INFO] Register count_adap_avgpool() for <class 'torch.nn.modules.pooling.AdaptiveAvgPool2d'>.\n",
      "[INFO] Register zero_ops() for <class 'torch.nn.modules.dropout.Dropout'>.\n",
      "[INFO] Register count_linear() for <class 'torch.nn.modules.linear.Linear'>.\n",
      "flops: 714.21 M, params: 61.10 M\n"
     ]
    }
   ],
   "execution_count": 14
  },
  {
   "metadata": {
    "ExecuteTime": {
     "end_time": "2024-07-23T02:43:01.446626Z",
     "start_time": "2024-07-23T02:43:01.266244Z"
    }
   },
   "cell_type": "code",
   "source": [
    "import torchvision\n",
    "from ptflops import get_model_complexity_info\n",
    " \n",
    "model = torchvision.models.alexnet()\n",
    "flops, params = get_model_complexity_info(model, (3, 224, 224), as_strings=True, print_per_layer_stat=True)\n",
    "print('flops: ', flops, 'params: ', params) "
   ],
   "id": "6d741d39790775dd",
   "outputs": [
    {
     "name": "stdout",
     "output_type": "stream",
     "text": [
      "AlexNet(\n",
      "  61.1 M, 100.000% Params, 715.56 MMac, 99.877% MACs, \n",
      "  (features): Sequential(\n",
      "    2.47 M, 4.042% Params, 656.91 MMac, 91.691% MACs, \n",
      "    (0): Conv2d(23.3 k, 0.038% Params, 70.47 MMac, 9.836% MACs, 3, 64, kernel_size=(11, 11), stride=(4, 4), padding=(2, 2))\n",
      "    (1): ReLU(0, 0.000% Params, 193.6 KMac, 0.027% MACs, inplace=True)\n",
      "    (2): MaxPool2d(0, 0.000% Params, 193.6 KMac, 0.027% MACs, kernel_size=3, stride=2, padding=0, dilation=1, ceil_mode=False)\n",
      "    (3): Conv2d(307.39 k, 0.503% Params, 224.09 MMac, 31.278% MACs, 64, 192, kernel_size=(5, 5), stride=(1, 1), padding=(2, 2))\n",
      "    (4): ReLU(0, 0.000% Params, 139.97 KMac, 0.020% MACs, inplace=True)\n",
      "    (5): MaxPool2d(0, 0.000% Params, 139.97 KMac, 0.020% MACs, kernel_size=3, stride=2, padding=0, dilation=1, ceil_mode=False)\n",
      "    (6): Conv2d(663.94 k, 1.087% Params, 112.21 MMac, 15.661% MACs, 192, 384, kernel_size=(3, 3), stride=(1, 1), padding=(1, 1))\n",
      "    (7): ReLU(0, 0.000% Params, 64.9 KMac, 0.009% MACs, inplace=True)\n",
      "    (8): Conv2d(884.99 k, 1.448% Params, 149.56 MMac, 20.876% MACs, 384, 256, kernel_size=(3, 3), stride=(1, 1), padding=(1, 1))\n",
      "    (9): ReLU(0, 0.000% Params, 43.26 KMac, 0.006% MACs, inplace=True)\n",
      "    (10): Conv2d(590.08 k, 0.966% Params, 99.72 MMac, 13.919% MACs, 256, 256, kernel_size=(3, 3), stride=(1, 1), padding=(1, 1))\n",
      "    (11): ReLU(0, 0.000% Params, 43.26 KMac, 0.006% MACs, inplace=True)\n",
      "    (12): MaxPool2d(0, 0.000% Params, 43.26 KMac, 0.006% MACs, kernel_size=3, stride=2, padding=0, dilation=1, ceil_mode=False)\n",
      "  )\n",
      "  (avgpool): AdaptiveAvgPool2d(0, 0.000% Params, 9.22 KMac, 0.001% MACs, output_size=(6, 6))\n",
      "  (classifier): Sequential(\n",
      "    58.63 M, 95.958% Params, 58.64 MMac, 8.185% MACs, \n",
      "    (0): Dropout(0, 0.000% Params, 0.0 Mac, 0.000% MACs, p=0.5, inplace=False)\n",
      "    (1): Linear(37.75 M, 61.788% Params, 37.75 MMac, 5.269% MACs, in_features=9216, out_features=4096, bias=True)\n",
      "    (2): ReLU(0, 0.000% Params, 4.1 KMac, 0.001% MACs, inplace=True)\n",
      "    (3): Dropout(0, 0.000% Params, 0.0 Mac, 0.000% MACs, p=0.5, inplace=False)\n",
      "    (4): Linear(16.78 M, 27.465% Params, 16.78 MMac, 2.342% MACs, in_features=4096, out_features=4096, bias=True)\n",
      "    (5): ReLU(0, 0.000% Params, 4.1 KMac, 0.001% MACs, inplace=True)\n",
      "    (6): Linear(4.1 M, 6.705% Params, 4.1 MMac, 0.572% MACs, in_features=4096, out_features=1000, bias=True)\n",
      "  )\n",
      ")\n",
      "flops:  716.44 MMac params:  61.1 M\n"
     ]
    }
   ],
   "execution_count": 15
  },
  {
   "metadata": {},
   "cell_type": "code",
   "outputs": [],
   "execution_count": null,
   "source": [
    "import numpy as np \n",
    "np.con"
   ],
   "id": "f01f7d992eead67a"
  }
 ],
 "metadata": {
  "kernelspec": {
   "display_name": "Python 3",
   "language": "python",
   "name": "python3"
  },
  "language_info": {
   "codemirror_mode": {
    "name": "ipython",
    "version": 2
   },
   "file_extension": ".py",
   "mimetype": "text/x-python",
   "name": "python",
   "nbconvert_exporter": "python",
   "pygments_lexer": "ipython2",
   "version": "2.7.6"
  }
 },
 "nbformat": 4,
 "nbformat_minor": 5
}
